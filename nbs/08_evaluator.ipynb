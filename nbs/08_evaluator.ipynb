{
 "cells": [
  {
   "cell_type": "markdown",
   "metadata": {},
   "source": [
    "# evaluator\n",
    "\n",
    "> Evaluates the schedule\n",
    "- order: 8"
   ]
  },
  {
   "cell_type": "code",
   "execution_count": null,
   "metadata": {},
   "outputs": [],
   "source": [
    "#| default_exp evaluator"
   ]
  },
  {
   "cell_type": "code",
   "execution_count": null,
   "metadata": {},
   "outputs": [],
   "source": [
    "# Set up autoreload\n",
    "%load_ext autoreload\n",
    "%autoreload 2"
   ]
  },
  {
   "cell_type": "code",
   "execution_count": null,
   "metadata": {},
   "outputs": [],
   "source": [
    "#| hide\n",
    "from nbdev.showdoc import *"
   ]
  },
  {
   "cell_type": "code",
   "execution_count": null,
   "metadata": {},
   "outputs": [
    {
     "name": "stdout",
     "output_type": "stream",
     "text": [
      "\n",
      "len(RESOURCE_TYPES)=3\n",
      "['Manager', 'AssistMngr', 'RetailAssoc']\n",
      "\n",
      "len(TYPES)=13\n",
      "['Manager', 'AssistMngr', 'AssistMngr', 'RetailAssoc', 'RetailAssoc', 'RetailAssoc', 'RetailAssoc', 'RetailAssoc', 'RetailAssoc', 'RetailAssoc', 'RetailAssoc', 'RetailAssoc', 'RetailAssoc']\n",
      "len(aNAMES)=13\n",
      "['Manager_Matt', 'AssistMngr_Mike', 'AssistMngr_Tanner', 'RetailAssoc_Jake', 'RetailAssoc_James', 'RetailAssoc_Jane', 'RetailAssoc_John', 'RetailAssoc_Jim', 'RetailAssoc_Jenny', 'RetailAssoc_Jeremy', 'RetailAssoc_Judy', 'RetailAssoc_Julie', 'RetailAssoc_Jeffrey']\n",
      "\n",
      "len(bNAMES)=3\n",
      "['Manager', 'AssistMngr', 'RetailAssoc']\n",
      "\n",
      "len(abNAMES)=13\n",
      "['Manager_Matt___Manager', 'AssistMngr_Mike___AssistMngr', 'AssistMngr_Tanner___AssistMngr', 'RetailAssoc_Jake___RetailAssoc', 'RetailAssoc_James___RetailAssoc', 'RetailAssoc_Jane___RetailAssoc', 'RetailAssoc_John___RetailAssoc', 'RetailAssoc_Jim___RetailAssoc', 'RetailAssoc_Jenny___RetailAssoc', 'RetailAssoc_Jeremy___RetailAssoc', 'RetailAssoc_Judy___RetailAssoc', 'RetailAssoc_Julie___RetailAssoc', 'RetailAssoc_Jeffrey___RetailAssoc']\n",
      "\n",
      "len(thNAMES)=5\n",
      "thNAMES=['thCumSlots', 'thSickProb', 'thCumMerits', 'thContSlots', 'thSelect']\n",
      "\n",
      "SIM_MU_D={'Manager': 4, 'AssistMngr': 2, 'RetailAssoc': 2}\n",
      "\n",
      "SIM_EVENT_TIME_D={'Manager': None, 'AssistMngr': None, 'RetailAssoc': None}\n",
      "\n",
      "SIM_MU_DELTA_D={'Manager': None, 'AssistMngr': None, 'RetailAssoc': None}\n"
     ]
    }
   ],
   "source": [
    "#| export\n",
    "# from collections import namedtuple, defaultdict\n",
    "# import numpy as np\n",
    "import pandas as pd\n",
    "# import matplotlib as mpl\n",
    "# import matplotlib.pyplot as plt\n",
    "from copy import copy\n",
    "# import time\n",
    "# import math\n",
    "# from pprint import pprint\n",
    "## !pip install -U \"ray\"\n",
    "# import ray\n",
    "# import json\n",
    "\n",
    "import AIShiftScheduler_KE5.config as cf\n",
    "from AIShiftScheduler_KE5.model import *\n",
    "from AIShiftScheduler_KE5.policy import *"
   ]
  },
  {
   "cell_type": "code",
   "execution_count": null,
   "metadata": {},
   "outputs": [
    {
     "data": {
      "text/plain": [
       "'2.0.3'"
      ]
     },
     "execution_count": null,
     "metadata": {},
     "output_type": "execute_result"
    }
   ],
   "source": [
    "pd.__version__"
   ]
  },
  {
   "cell_type": "code",
   "execution_count": null,
   "metadata": {},
   "outputs": [],
   "source": [
    "# !pip freeze | grep pandas\n",
    "# !pip freeze|grep openpyxl\n",
    "# !pip freeze"
   ]
  },
  {
   "cell_type": "code",
   "execution_count": null,
   "metadata": {},
   "outputs": [],
   "source": [
    "# !pip install -U ray==2.8.1\n",
    "# !pip install openpyxl"
   ]
  },
  {
   "cell_type": "code",
   "execution_count": null,
   "metadata": {},
   "outputs": [],
   "source": [
    "#| export\n",
    "pd.options.display.float_format = '{:,.4f}'.format\n",
    "pd.set_option('display.max_columns', None)\n",
    "pd.set_option('display.max_rows', None)\n",
    "pd.set_option('display.max_colwidth', None)"
   ]
  },
  {
   "cell_type": "code",
   "execution_count": null,
   "metadata": {},
   "outputs": [],
   "source": [
    "# #| export\n",
    "# base_dir = '.'\n",
    "# file_name = 'shift_scheduler_data.xlsx'"
   ]
  },
  {
   "cell_type": "code",
   "execution_count": null,
   "metadata": {},
   "outputs": [],
   "source": []
  },
  {
   "cell_type": "code",
   "execution_count": null,
   "metadata": {},
   "outputs": [],
   "source": [
    "#| export\n",
    "def do_evalu_opt(L, T, Best_theta_Alloc):\n",
    "  # global DEM, MER, \\\n",
    "  # global ThetaStar_expCbarcum_Alloc_evalu_opt, ThetaStar_expCtilcum_Alloc_evalu_opt, \\\n",
    "  # Best_theta_Alloc_evalu_opt, Worst_theta_Alloc_evalu_opt, \\\n",
    "  # Record_Alloc_evalu_opt, Df_Alloc_evalu_opt, \\\n",
    "  # ThetaStar_expCbarcum_Alloc_evalu_non, ThetaStar_expCtilcum_Alloc_evalu_non, \\\n",
    "  # Best_theta_Alloc_evalu_non, Worst_theta_Alloc_evalu_non, \\\n",
    "  # Record_Alloc_evalu_non, Df_Alloc_evalu_non\n",
    "\n",
    "  M = Model()\n",
    "  P = Policy(M)\n",
    "  ## DEM = DemandSimulator(seed=SEED_EVALU)\n",
    "  ## MER = MeritSimulator(seed=SEED_EVALU)\n",
    "  thetasOpt = []; thetasOpt.append(Best_theta_Alloc)\n",
    "  # ThetaStar_expCbarcum_Alloc_evalu_opt, ThetaStar_expCtilcum_Alloc_evalu_opt, \\\n",
    "  # _, _, \\\n",
    "  # Best_theta_Alloc_evalu_opt, Worst_theta_Alloc_evalu_opt, \\\n",
    "  # _, _, \\\n",
    "  # _, _, \\\n",
    "  # Record_Alloc_evalu_opt = \\\n",
    "  #   P.perform_grid_search_sample_paths('X__Alloc', thetasOpt, L, T)\n",
    "  return \\\n",
    "    P.perform_grid_search_sample_paths('X__Alloc', thetasOpt, L, T)\n",
    "    \n",
    "  # Df_Alloc_evalu_opt = pd.DataFrame.from_records(\n",
    "  #     Record_Alloc_evalu_opt[:First_n_t], columns=Labels)\n",
    "  # print(f'{ThetaStar_expCbarcum_Alloc_evalu_opt.iloc[-1]=:.2f}')"
   ]
  },
  {
   "cell_type": "code",
   "execution_count": null,
   "metadata": {},
   "outputs": [],
   "source": [
    "#| export\n",
    "def do_evalu_non(L, T, Worst_theta_Alloc):\n",
    "  # global DEM, MER, \\\n",
    "  # global ThetaStar_expCbarcum_Alloc_evalu_opt, ThetaStar_expCtilcum_Alloc_evalu_opt, \\\n",
    "  # Best_theta_Alloc_evalu_opt, Worst_theta_Alloc_evalu_opt, \\\n",
    "  # Record_Alloc_evalu_opt, Df_Alloc_evalu_opt, \\\n",
    "  # ThetaStar_expCbarcum_Alloc_evalu_non, ThetaStar_expCtilcum_Alloc_evalu_non, \\\n",
    "  # Best_theta_Alloc_evalu_non, Worst_theta_Alloc_evalu_non, \\\n",
    "  # Record_Alloc_evalu_non, Df_Alloc_evalu_non\n",
    "\n",
    "  M = Model()\n",
    "  P = Policy(M)\n",
    "  ## DEM = DemandSimulator(seed=SEED_EVALU)\n",
    "  ## MER = MeritSimulator(seed=SEED_EVALU)\n",
    "  thetasNon = []; thetasNon.append(Worst_theta_Alloc)\n",
    "  ## thetasNon = []; thetasNon.append(\n",
    "  ##   Policy(None).build_theta(\n",
    "  ##     {'thCumShifts': 1.0, 'thSickProb': 1.0}\n",
    "  ##   )\n",
    "  ## )\n",
    "  # ThetaStar_expCbarcum_Alloc_evalu_non, ThetaStar_expCtilcum_Alloc_evalu_non, \\\n",
    "  # _, _, \\\n",
    "  # Best_theta_Alloc_evalu_non, Worst_theta_Alloc_evalu_non, \\\n",
    "  # _, _, \\\n",
    "  # _, _, \\\n",
    "  # Record_Alloc_evalu_non = \\\n",
    "  #   P.perform_grid_search_sample_paths('X__Alloc', thetasNon, L, T)\n",
    "  return \\\n",
    "    P.perform_grid_search_sample_paths('X__Alloc', thetasNon, L, T)\n",
    "    \n",
    "  # Df_Alloc_evalu_non = pd.DataFrame.from_records(\n",
    "  #     Record_Alloc_evalu_non[:First_n_t], columns=Labels)\n",
    "  # print(f'{ThetaStar_expCbarcum_Alloc_evalu_non.iloc[-1]=:.2f}')"
   ]
  },
  {
   "cell_type": "code",
   "execution_count": null,
   "metadata": {},
   "outputs": [],
   "source": []
  },
  {
   "cell_type": "code",
   "execution_count": null,
   "metadata": {},
   "outputs": [],
   "source": []
  },
  {
   "cell_type": "code",
   "execution_count": null,
   "metadata": {},
   "outputs": [],
   "source": []
  },
  {
   "cell_type": "code",
   "execution_count": null,
   "metadata": {},
   "outputs": [],
   "source": []
  },
  {
   "cell_type": "code",
   "execution_count": null,
   "metadata": {},
   "outputs": [],
   "source": []
  },
  {
   "cell_type": "code",
   "execution_count": null,
   "metadata": {},
   "outputs": [],
   "source": []
  },
  {
   "cell_type": "code",
   "execution_count": null,
   "metadata": {},
   "outputs": [],
   "source": []
  },
  {
   "cell_type": "code",
   "execution_count": null,
   "metadata": {},
   "outputs": [],
   "source": []
  },
  {
   "cell_type": "code",
   "execution_count": null,
   "metadata": {},
   "outputs": [],
   "source": []
  },
  {
   "cell_type": "code",
   "execution_count": null,
   "metadata": {},
   "outputs": [],
   "source": []
  },
  {
   "cell_type": "code",
   "execution_count": null,
   "metadata": {},
   "outputs": [],
   "source": []
  },
  {
   "cell_type": "code",
   "execution_count": null,
   "metadata": {},
   "outputs": [],
   "source": []
  },
  {
   "cell_type": "code",
   "execution_count": null,
   "metadata": {},
   "outputs": [],
   "source": []
  },
  {
   "cell_type": "code",
   "execution_count": null,
   "metadata": {},
   "outputs": [],
   "source": [
    "#| hide\n",
    "import nbdev; nbdev.nbdev_export()"
   ]
  },
  {
   "cell_type": "code",
   "execution_count": null,
   "metadata": {},
   "outputs": [],
   "source": []
  }
 ],
 "metadata": {
  "kernelspec": {
   "display_name": "python3",
   "language": "python",
   "name": "python3"
  }
 },
 "nbformat": 4,
 "nbformat_minor": 4
}
