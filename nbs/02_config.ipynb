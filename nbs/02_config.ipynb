{
 "cells": [
  {
   "cell_type": "markdown",
   "metadata": {},
   "source": [
    "# config\n",
    "\n",
    "> Configure the system\n",
    "- order: 2"
   ]
  },
  {
   "cell_type": "code",
   "execution_count": null,
   "metadata": {},
   "outputs": [],
   "source": [
    "#| default_exp config"
   ]
  },
  {
   "cell_type": "code",
   "execution_count": null,
   "metadata": {},
   "outputs": [],
   "source": [
    "# Set up autoreload\n",
    "%load_ext autoreload\n",
    "%autoreload 2"
   ]
  },
  {
   "cell_type": "code",
   "execution_count": null,
   "metadata": {},
   "outputs": [],
   "source": [
    "#| hide\n",
    "from nbdev.showdoc import *"
   ]
  },
  {
   "cell_type": "code",
   "execution_count": null,
   "metadata": {},
   "outputs": [],
   "source": [
    "#| export\n",
    "# from collections import namedtuple, defaultdict\n",
    "# import numpy as np\n",
    "import pandas as pd\n",
    "# import matplotlib as mpl\n",
    "# import matplotlib.pyplot as plt\n",
    "# from copy import copy\n",
    "# import time\n",
    "# import math\n",
    "# from pprint import pprint\n",
    "## !pip install -U \"ray\"\n",
    "# import ray\n",
    "# import json\n",
    "\n",
    "# from AIShiftScheduler_KE5.loader import *\n",
    "import AIShiftScheduler_KE5.loader as ldr"
   ]
  },
  {
   "cell_type": "code",
   "execution_count": null,
   "metadata": {},
   "outputs": [],
   "source": [
    "# pd.__version__"
   ]
  },
  {
   "cell_type": "code",
   "execution_count": null,
   "metadata": {},
   "outputs": [],
   "source": [
    "# !pip freeze | grep pandas\n",
    "# !pip freeze|grep openpyxl\n",
    "# !pip freeze"
   ]
  },
  {
   "cell_type": "code",
   "execution_count": null,
   "metadata": {},
   "outputs": [],
   "source": [
    "# !pip install -U ray==2.8.1\n",
    "# !pip install openpyxl"
   ]
  },
  {
   "cell_type": "code",
   "execution_count": null,
   "metadata": {},
   "outputs": [],
   "source": [
    "# #| export\n",
    "# pd.options.display.float_format = '{:,.4f}'.format\n",
    "# pd.set_option('display.max_columns', None)\n",
    "# pd.set_option('display.max_rows', None)\n",
    "# pd.set_option('display.max_colwidth', None)"
   ]
  },
  {
   "cell_type": "code",
   "execution_count": null,
   "metadata": {},
   "outputs": [],
   "source": [
    "#| export\n",
    "## PARAMETERS\n",
    "## MODES:\n",
    "## TRAIN|LEARN\n",
    "## EVALU\n",
    "## INFER|APPLY|SERVE\n",
    "# MODES = ['LEARN']\n",
    "MODES = ['TRAIN', 'EVALU']\n",
    "# MODES = ['TRAIN', 'EVALU', 'INFER']\n",
    "# MODES = ['EVALU', 'INFER']\n",
    "# MODES = ['INFER']"
   ]
  },
  {
   "cell_type": "code",
   "execution_count": null,
   "metadata": {},
   "outputs": [],
   "source": [
    "#| export\n",
    "# BASE_DIR = '.'\n",
    "BASE_DIR = '..'\n",
    "FILE_NAME = 'shift_scheduler_data.xlsx'"
   ]
  },
  {
   "cell_type": "code",
   "execution_count": null,
   "metadata": {},
   "outputs": [],
   "source": [
    "#| export\n",
    "SICK_PROBS = ldr.load_sick_probs(f'{BASE_DIR}/{FILE_NAME}')\n",
    "MERIT_PROBS = ldr.load_merit_probs(f'{BASE_DIR}/{FILE_NAME}')\n",
    "EXOG_INFO = ldr.load_exog_info(f'{BASE_DIR}/{FILE_NAME}')"
   ]
  },
  {
   "cell_type": "code",
   "execution_count": null,
   "metadata": {},
   "outputs": [],
   "source": [
    "#| export\n",
    "BEST_THETA_Alloc = (0, 0, 0, 1, 'random') #will be written/read eventually"
   ]
  },
  {
   "cell_type": "code",
   "execution_count": null,
   "metadata": {},
   "outputs": [],
   "source": [
    "## SNAMES = [ #state variable names\n",
    "#     'RAvail_t', #available resource\n",
    "#     'R_t',      #resource\n",
    "#     'D_t',      #demand\n",
    "# ]\n",
    "## xNAMES = ['x_t'] #decision variable names"
   ]
  },
  {
   "cell_type": "code",
   "execution_count": null,
   "metadata": {},
   "outputs": [],
   "source": [
    "#| export\n",
    "MAX_RESOURCE_TYPES = 3\n",
    "MAX_RESOURCE_IDS = 13"
   ]
  },
  {
   "cell_type": "code",
   "execution_count": null,
   "metadata": {},
   "outputs": [],
   "source": [
    "#| export\n",
    "## RESOURCE_TYPES = ['Courtesy', 'Stocker', 'Cleaner', 'Curbsider'] ## <<< ========= INPUT ==============\n",
    "RESOURCE_TYPES = ['Manager', 'AssistMngr', 'RetailAssoc'] ## <<< ========= INPUT =============="
   ]
  },
  {
   "cell_type": "code",
   "execution_count": null,
   "metadata": {},
   "outputs": [
    {
     "name": "stdout",
     "output_type": "stream",
     "text": [
      "\n",
      "len(RESOURCE_TYPES)=3\n",
      "['Manager', 'AssistMngr', 'RetailAssoc']\n"
     ]
    }
   ],
   "source": [
    "#| export\n",
    "RESOURCE_TYPE_COUNTS = [1, 2, 10] ## <<< ========= INPUT ==============\n",
    "assert len(RESOURCE_TYPES) == len(RESOURCE_TYPE_COUNTS)\n",
    "assert len(RESOURCE_TYPES) <= MAX_RESOURCE_TYPES\n",
    "print(f'\\n{len(RESOURCE_TYPES)=}')\n",
    "print(RESOURCE_TYPES)"
   ]
  },
  {
   "cell_type": "code",
   "execution_count": null,
   "metadata": {},
   "outputs": [
    {
     "name": "stdout",
     "output_type": "stream",
     "text": [
      "\n",
      "len(TYPES)=13\n",
      "['Manager', 'AssistMngr', 'AssistMngr', 'RetailAssoc', 'RetailAssoc', 'RetailAssoc', 'RetailAssoc', 'RetailAssoc', 'RetailAssoc', 'RetailAssoc', 'RetailAssoc', 'RetailAssoc', 'RetailAssoc']\n"
     ]
    }
   ],
   "source": [
    "#| export\n",
    "## TYPES = ['Courtesy']*7 + ['Stocker']*3 + ['Cleaner']*2 + ['Curbsider']*4\n",
    "TYPES = []\n",
    "for i in range(len(RESOURCE_TYPES)):\n",
    "  additional_types = [RESOURCE_TYPES[i]]*RESOURCE_TYPE_COUNTS[i]\n",
    "  for item in additional_types:\n",
    "    TYPES.append(item)\n",
    "print(f'\\n{len(TYPES)=}')\n",
    "print(TYPES)"
   ]
  },
  {
   "cell_type": "code",
   "execution_count": null,
   "metadata": {},
   "outputs": [],
   "source": [
    "#| export\n",
    "RESOURCE_IDS = [ ## <<< ========= INPUT ==============\n",
    "  'Matt', \n",
    "  'Mike', 'Tanner', \n",
    "  'Jake', 'James', 'Jane', 'John', 'Jim', 'Jenny', 'Jeremy', 'Judy', 'Julie', 'Jeffrey']\n",
    "assert len(RESOURCE_IDS) == len(TYPES)\n",
    "assert len(RESOURCE_IDS) <= MAX_RESOURCE_IDS"
   ]
  },
  {
   "cell_type": "code",
   "execution_count": null,
   "metadata": {},
   "outputs": [],
   "source": [
    "#| export\n",
    "## eventually learn, call thBusyRate\n",
    "## demand/busyness ## <<< ========= INPUT ==============\n",
    "## add demands of 0 up to these values as busyness varies from 0 to 100%\n",
    "DEMANDS_PER_BUSYNESS = [.005, .008, .02] ##set to [0, 0, 0] to disregard\n",
    "DEMAND_PER_BUSYNESS = {e: DEMANDS_PER_BUSYNESS[i] for i,e in enumerate(RESOURCE_TYPES)}\n",
    "assert len(DEMANDS_PER_BUSYNESS) == len(RESOURCE_TYPES)"
   ]
  },
  {
   "cell_type": "code",
   "execution_count": null,
   "metadata": {},
   "outputs": [],
   "source": [
    "#| export\n",
    "## eventually learn, call thVolumeRate\n",
    "## demand/volume ## <<< ========= INPUT ==============\n",
    "DEMANDS_PER_VOLUME = [.03, .08, .2] ##set to [0, 0, 0] to disregard\n",
    "DEMAND_PER_VOLUME = {e: DEMANDS_PER_VOLUME[i] for i,e in enumerate(RESOURCE_TYPES)}\n",
    "assert len(DEMANDS_PER_VOLUME) == len(RESOURCE_TYPES)"
   ]
  },
  {
   "cell_type": "code",
   "execution_count": null,
   "metadata": {},
   "outputs": [],
   "source": [
    "#| export\n",
    "## eventually learn, call thRevenueRate\n",
    "## demand/revenue ## <<< ========= INPUT ==============\n",
    "DEMANDS_PER_REVENUE = [.00005, .0001, .0008] ##set to [0, 0, 0] to disregard\n",
    "DEMAND_PER_REVENUE = {e: DEMANDS_PER_REVENUE[i] for i,e in enumerate(RESOURCE_TYPES)}\n",
    "assert len(DEMANDS_PER_REVENUE) == len(RESOURCE_TYPES)"
   ]
  },
  {
   "cell_type": "code",
   "execution_count": null,
   "metadata": {},
   "outputs": [],
   "source": [
    "#| export\n",
    "## what it costs to pay the human resources being scheduled\n",
    "RESOURCE_EXPENSES = [25.00, 20.00, 18.00] ## <<< ========= INPUT ==============\n",
    "RESOURCE_EXPENSE = {e: RESOURCE_EXPENSES[i] for i,e in enumerate(RESOURCE_TYPES)}\n",
    "assert len(RESOURCE_EXPENSES) == len(RESOURCE_TYPES)"
   ]
  },
  {
   "cell_type": "code",
   "execution_count": null,
   "metadata": {},
   "outputs": [
    {
     "name": "stdout",
     "output_type": "stream",
     "text": [
      "len(aNAMES)=13\n",
      "['Manager_Matt', 'AssistMngr_Mike', 'AssistMngr_Tanner', 'RetailAssoc_Jake', 'RetailAssoc_James', 'RetailAssoc_Jane', 'RetailAssoc_John', 'RetailAssoc_Jim', 'RetailAssoc_Jenny', 'RetailAssoc_Jeremy', 'RetailAssoc_Judy', 'RetailAssoc_Julie', 'RetailAssoc_Jeffrey']\n"
     ]
    }
   ],
   "source": [
    "#| export\n",
    "## *resource* attribute vectors\n",
    "aNAMES = [tup[0]+'_'+tup[1] for tup in zip(TYPES, RESOURCE_IDS)]\n",
    "print(f'{len(aNAMES)=}')\n",
    "print(aNAMES)"
   ]
  },
  {
   "cell_type": "code",
   "execution_count": null,
   "metadata": {},
   "outputs": [
    {
     "name": "stdout",
     "output_type": "stream",
     "text": [
      "\n",
      "len(bNAMES)=3\n",
      "['Manager', 'AssistMngr', 'RetailAssoc']\n"
     ]
    }
   ],
   "source": [
    "#| export\n",
    "## *demand* attribute vectors\n",
    "bNAMES = RESOURCE_TYPES\n",
    "print(f'\\n{len(bNAMES)=}')\n",
    "print(bNAMES)"
   ]
  },
  {
   "cell_type": "code",
   "execution_count": null,
   "metadata": {},
   "outputs": [
    {
     "name": "stdout",
     "output_type": "stream",
     "text": [
      "\n",
      "len(abNAMES)=13\n",
      "['Manager_Matt___Manager', 'AssistMngr_Mike___AssistMngr', 'AssistMngr_Tanner___AssistMngr', 'RetailAssoc_Jake___RetailAssoc', 'RetailAssoc_James___RetailAssoc', 'RetailAssoc_Jane___RetailAssoc', 'RetailAssoc_John___RetailAssoc', 'RetailAssoc_Jim___RetailAssoc', 'RetailAssoc_Jenny___RetailAssoc', 'RetailAssoc_Jeremy___RetailAssoc', 'RetailAssoc_Judy___RetailAssoc', 'RetailAssoc_Julie___RetailAssoc', 'RetailAssoc_Jeffrey___RetailAssoc']\n"
     ]
    }
   ],
   "source": [
    "#| export\n",
    "## *decision* 'attribute' vectors\n",
    "abNAMES = [] ##to DEMAND b\n",
    "for a in aNAMES:\n",
    "  a0,a1 = a.split('_')\n",
    "  for b in bNAMES:\n",
    "    if(a0==b):\n",
    "      abn = (a + '___' + b)\n",
    "      abNAMES.append(abn)\n",
    "print(f'\\n{len(abNAMES)=}')\n",
    "print(abNAMES)"
   ]
  },
  {
   "cell_type": "code",
   "execution_count": null,
   "metadata": {},
   "outputs": [
    {
     "name": "stdout",
     "output_type": "stream",
     "text": [
      "\n",
      "len(thNAMES)=5\n",
      "thNAMES=['thCumSlots', 'thSickProb', 'thCumMerits', 'thContSlots', 'thSelect']\n"
     ]
    }
   ],
   "source": [
    "#| export\n",
    "piNAMES = ['X__Alloc'] ##policy names\n",
    "thNAMES = [ ##theta names\n",
    "  'thCumSlots',\n",
    "  'thSickProb',\n",
    "  'thCumMerits',\n",
    "  'thContSlots',\n",
    "  'thSelect'\n",
    "  ## 'thBusyRate' ##later\n",
    "]\n",
    "print(f'\\n{len(thNAMES)=}')\n",
    "print(f'{thNAMES=}')"
   ]
  },
  {
   "cell_type": "code",
   "execution_count": null,
   "metadata": {},
   "outputs": [],
   "source": [
    "#| export\n",
    "# RESOLUTION = 'HOUR' ## 'BLOCK_8_HOUR', 'HOUR', 'QUARTER_HOUR', \n",
    "# if RESOLUTION == 'QUARTER_HOUR':\n",
    "#   SLOTS_PER_DAY = 96\n",
    "#   DATE_TIME_DELTA = '15min'\n",
    "# elif RESOLUTION == 'HOUR':\n",
    "#   SLOTS_PER_DAY = 24\n",
    "#   DATE_TIME_DELTA = '1H'\n",
    "# elif RESOLUTION == 'BLOCK_8_HOUR':\n",
    "#   SLOTS_PER_DAY = 3\n",
    "#   DATE_TIME_DELTA = '8H'\n",
    "#   ## DATE_TIME_DELTA = {0: '6H', 1: '10H', 2: '8H'} ##maybe in future?\n",
    "# else:\n",
    "#   print(f'ERROR: Invalid RESOLUTION: {RESOLUTION}')\n",
    "def slots_per_day_and_date_time_delta(resolution):\n",
    "    if resolution == 'QUARTER_HOUR':\n",
    "      slots_per_day = 96\n",
    "      date_time_delta = '15min'\n",
    "    elif resolution == 'HOUR':\n",
    "      slots_per_day = 24\n",
    "      date_time_delta = '1H'\n",
    "    elif resolution == 'BLOCK_8_HOUR':\n",
    "      slots_per_day = 3\n",
    "      date_time_delta = '8H'\n",
    "      ## DATE_TIME_DELTA = {0: '6H', 1: '10H', 2: '8H'} ##maybe in future?\n",
    "    else:\n",
    "      print(f'ERROR: Invalid resolution: {resolution}')\n",
    "      slots_per_day = 0\n",
    "      date_time_delta = 'error'    \n",
    "    return slots_per_day, date_time_delta"
   ]
  },
  {
   "cell_type": "code",
   "execution_count": null,
   "metadata": {},
   "outputs": [],
   "source": [
    "#| export\n",
    "RESOLUTION = 'HOUR' ## 'BLOCK_8_HOUR', 'HOUR', 'QUARTER_HOUR', \n",
    "SLOTS_PER_DAY, DATE_TIME_DELTA = slots_per_day_and_date_time_delta(RESOLUTION)"
   ]
  },
  {
   "cell_type": "code",
   "execution_count": null,
   "metadata": {},
   "outputs": [],
   "source": [
    "#| export\n",
    "BLOCK_START_HOUR = {0: 0, 1: 8, 2:16}"
   ]
  },
  {
   "cell_type": "code",
   "execution_count": null,
   "metadata": {},
   "outputs": [],
   "source": [
    "## ///////////////////////////\n",
    "# SLOTS_PER_DAY = {\n",
    "#     'QUARTER_HOUR': 96,\n",
    "#     'HOUR': 24,\n",
    "#     'BLOCK_8_HOUR': 3\n",
    "#     # 'BLOCK_8_HOUR': {0: '6H', 1: '10H', 2: '8H'}\n",
    "# }\n",
    "# DATE_TIME_DELTA = {\n",
    "#     'QUARTER_HOUR': '15min',\n",
    "#     'HOUR': '1H',\n",
    "#     'BLOCK_8_HOUR': '8H'\n",
    "#     # 'BLOCK_8_HOUR': {0: '6H', 1: '10H', 2: '8H'}\n",
    "# }\n",
    "## \\\\\\\\\\\\\\\\\\\\"
   ]
  },
  {
   "cell_type": "code",
   "execution_count": null,
   "metadata": {},
   "outputs": [],
   "source": [
    "#| export\n",
    "def get_availabilities(dt):\n",
    "  avails = \\\n",
    "    EXOG_INFO.loc[\n",
    "      EXOG_INFO['Date']==dt,\n",
    "      [col for col in EXOG_INFO.columns if col in [f'A_{a}' for a in range(len(RESOURCE_IDS))]]\n",
    "    ].iloc[0]\n",
    "  avails.reset_index(drop=True, inplace=True) ##to start index at 0\n",
    "  return avails"
   ]
  },
  {
   "cell_type": "code",
   "execution_count": null,
   "metadata": {},
   "outputs": [],
   "source": [
    "#| export\n",
    "def get_dow_qod_capacities(dow):\n",
    "  capacities = \\\n",
    "    EXOG_INFO.loc[\n",
    "      (EXOG_INFO['DOW']==dow),\n",
    "      [col for col in EXOG_INFO.columns if col in [f'A_{a}' for a in range(len(RESOURCE_IDS))]]\n",
    "    ].sum(axis=0) ##total daily capacity\n",
    "  capacities.reset_index(drop=True, inplace=True)\n",
    "  return capacities"
   ]
  },
  {
   "cell_type": "code",
   "execution_count": null,
   "metadata": {},
   "outputs": [],
   "source": [
    "#| export\n",
    "def get_dow_hod_capacities(dow):\n",
    "  capacities = \\\n",
    "    EXOG_INFO.loc[\n",
    "      (EXOG_INFO['DOW']==dow),\n",
    "    ].groupby(['HOD']).first()\n",
    "  capacities = capacities[[col for col in EXOG_INFO.columns if col in [f'A_{a}' for a in range(len(RESOURCE_IDS))]]]\n",
    "  capacities = capacities.sum(axis=0) ##total daily capacity\n",
    "  capacities.reset_index(drop=True, inplace=True)\n",
    "  return capacities"
   ]
  },
  {
   "cell_type": "code",
   "execution_count": null,
   "metadata": {},
   "outputs": [],
   "source": [
    "#| export\n",
    "def get_dow_bod_capacities(dow):\n",
    "  capacities = \\\n",
    "    EXOG_INFO.loc[\n",
    "      (EXOG_INFO['DOW']==dow),\n",
    "    ].groupby(['BOD']).first()\n",
    "  capacities = capacities[[col for col in EXOG_INFO.columns if col in [f'A_{a}' for a in range(len(RESOURCE_IDS))]]]\n",
    "  capacities = capacities.sum(axis=0) ##total daily capacity\n",
    "  capacities.reset_index(drop=True, inplace=True)\n",
    "  return capacities"
   ]
  },
  {
   "cell_type": "code",
   "execution_count": null,
   "metadata": {},
   "outputs": [],
   "source": [
    "#| export\n",
    "def get_capacities(dow):\n",
    "  if RESOLUTION == 'QUARTER_HOUR':\n",
    "    return get_dow_qod_capacities(dow)\n",
    "  elif RESOLUTION == 'HOUR':\n",
    "    return get_dow_hod_capacities(dow)\n",
    "  elif RESOLUTION == 'BLOCK_8_HOUR':\n",
    "    return get_dow_bod_capacities(dow)\n",
    "  else:\n",
    "    print(f'ERROR: Invalid RESOLUTION: {RESOLUTION}')\n",
    "    return None"
   ]
  },
  {
   "cell_type": "code",
   "execution_count": null,
   "metadata": {},
   "outputs": [],
   "source": [
    "#| export\n",
    "SEED_TRAIN = 77777777\n",
    "SEED_EVALU = 88888888\n",
    "## N_SAMPLEPATHS = 100; L = N_SAMPLEPATHS\n",
    "## N_TRANSITIONS = 100; T = N_TRANSITIONS"
   ]
  },
  {
   "cell_type": "code",
   "execution_count": null,
   "metadata": {},
   "outputs": [],
   "source": [
    "#| export\n",
    "TH_CumSlots_SPEC = (0, 1, .2)\n",
    "TH_SickProb_SPEC = (0, 1, .2)\n",
    "TH_CumMerits_SPEC = (0, 1, .2)\n",
    "TH_ContSlots_SPEC = (0, 1, .2)\n",
    "## TH_Select_SPEC = ('random', 'ranked_CumMerits')\n",
    "TH_Select_SPEC = ('random',)\n",
    "## TH_Select_SPEC = ('ranked_CumMerits',)"
   ]
  },
  {
   "cell_type": "code",
   "execution_count": null,
   "metadata": {},
   "outputs": [
    {
     "name": "stdout",
     "output_type": "stream",
     "text": [
      "\n",
      "SIM_MU_D={'Manager': 4, 'AssistMngr': 2, 'RetailAssoc': 2}\n",
      "\n",
      "SIM_EVENT_TIME_D={'Manager': None, 'AssistMngr': None, 'RetailAssoc': None}\n",
      "\n",
      "SIM_MU_DELTA_D={'Manager': None, 'AssistMngr': None, 'RetailAssoc': None}\n"
     ]
    }
   ],
   "source": [
    "#| export\n",
    "SIM_T = 60\n",
    "## SIM_MU_D = {bNAMES[0]: 4, bNAMES[1]: 2}\n",
    "SIM_MU_D = {bNAMES[0]: 4, bNAMES[1]: 2, bNAMES[2]: 2}\n",
    "print(f'\\n{SIM_MU_D=}')\n",
    "assert len(SIM_MU_D.items())==len(bNAMES)\n",
    "\n",
    "## SIM_EVENT_TIME_D = {bNAMES[0]: None, bNAMES[1]: None, bNAMES[2]: None, bNAMES[3]: None}\n",
    "## SIM_EVENT_TIME_D = {bNAMES[0]: None, bNAMES[1]: None}\n",
    "SIM_EVENT_TIME_D = {bNAMES[0]: None, bNAMES[1]: None, bNAMES[2]: None}\n",
    "print(f'\\n{SIM_EVENT_TIME_D=}')\n",
    "assert len(SIM_EVENT_TIME_D.items())==len(bNAMES)\n",
    "\n",
    "## SIM_MU_DELTA_D = {bNAMES[0]: None, bNAMES[1]: None, bNAMES[2]: None, bNAMES[3]: None}\n",
    "SIM_MU_DELTA_D = {bNAMES[0]: None, bNAMES[1]: None, bNAMES[2]: None}\n",
    "print(f'\\n{SIM_MU_DELTA_D=}')\n",
    "assert len(SIM_MU_DELTA_D.items())==len(bNAMES)"
   ]
  },
  {
   "cell_type": "code",
   "execution_count": null,
   "metadata": {},
   "outputs": [],
   "source": [
    "#| export\n",
    "START_DATE_TIME = '2023-12-04'\n",
    "## START_DATE_TIME = '2023-10-30T22:00' ##works too\n",
    "sd = pd.to_datetime(START_DATE_TIME)\n",
    "assert sd.strftime('%a')=='Mon'"
   ]
  },
  {
   "cell_type": "code",
   "execution_count": null,
   "metadata": {},
   "outputs": [],
   "source": [
    "#| export\n",
    "MAX_DAILY_SLOT_RUN = 8\n",
    "assert MAX_DAILY_SLOT_RUN<=SLOTS_PER_DAY"
   ]
  },
  {
   "cell_type": "code",
   "execution_count": null,
   "metadata": {},
   "outputs": [],
   "source": [
    "#| export\n",
    "CONTIGUOUS_REWARD = 1"
   ]
  },
  {
   "cell_type": "code",
   "execution_count": null,
   "metadata": {},
   "outputs": [],
   "source": [
    "#| export\n",
    "GOV_UTIL_THESH = 0.40"
   ]
  },
  {
   "cell_type": "code",
   "execution_count": null,
   "metadata": {},
   "outputs": [],
   "source": [
    "## math parameters use 'math/small case' (as opposed to code parameters):"
   ]
  },
  {
   "cell_type": "code",
   "execution_count": null,
   "metadata": {},
   "outputs": [],
   "source": [
    "## CONTRIB_MATRIX = {}\n",
    "# for an in aNAMES:\n",
    "#     contribs = {}\n",
    "#     for bn in bNAMES:\n",
    "#       contribs[bn] = contribution(an, bn)\n",
    "#     CONTRIB_MATRIX[an] = contribs\n",
    "# CONTRIB_MATRIX"
   ]
  },
  {
   "cell_type": "code",
   "execution_count": null,
   "metadata": {},
   "outputs": [],
   "source": [
    "#| hide\n",
    "import nbdev; nbdev.nbdev_export()"
   ]
  },
  {
   "cell_type": "code",
   "execution_count": null,
   "metadata": {},
   "outputs": [],
   "source": []
  }
 ],
 "metadata": {
  "kernelspec": {
   "display_name": "python3",
   "language": "python",
   "name": "python3"
  }
 },
 "nbformat": 4,
 "nbformat_minor": 4
}
