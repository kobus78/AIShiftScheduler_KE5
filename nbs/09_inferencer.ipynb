{
 "cells": [
  {
   "cell_type": "markdown",
   "metadata": {},
   "source": [
    "# inferencer\n",
    "\n",
    "> Infers the schedule\n",
    "- order: 9"
   ]
  },
  {
   "cell_type": "code",
   "execution_count": null,
   "metadata": {},
   "outputs": [],
   "source": [
    "#| default_exp inferencer"
   ]
  },
  {
   "cell_type": "code",
   "execution_count": null,
   "metadata": {},
   "outputs": [],
   "source": [
    "# Set up autoreload\n",
    "%load_ext autoreload\n",
    "%autoreload 2"
   ]
  },
  {
   "cell_type": "code",
   "execution_count": null,
   "metadata": {},
   "outputs": [],
   "source": [
    "#| hide\n",
    "from nbdev.showdoc import *"
   ]
  },
  {
   "cell_type": "code",
   "execution_count": null,
   "metadata": {},
   "outputs": [
    {
     "name": "stdout",
     "output_type": "stream",
     "text": [
      "\n",
      "len(RESOURCE_TYPES)=3\n",
      "['Manager', 'AssistMngr', 'RetailAssoc']\n",
      "\n",
      "len(TYPES)=13\n",
      "['Manager', 'AssistMngr', 'AssistMngr', 'RetailAssoc', 'RetailAssoc', 'RetailAssoc', 'RetailAssoc', 'RetailAssoc', 'RetailAssoc', 'RetailAssoc', 'RetailAssoc', 'RetailAssoc', 'RetailAssoc']\n",
      "len(aNAMES)=13\n",
      "['Manager_Matt', 'AssistMngr_Mike', 'AssistMngr_Tanner', 'RetailAssoc_Jake', 'RetailAssoc_James', 'RetailAssoc_Jane', 'RetailAssoc_John', 'RetailAssoc_Jim', 'RetailAssoc_Jenny', 'RetailAssoc_Jeremy', 'RetailAssoc_Judy', 'RetailAssoc_Julie', 'RetailAssoc_Jeffrey']\n",
      "\n",
      "len(bNAMES)=3\n",
      "['Manager', 'AssistMngr', 'RetailAssoc']\n",
      "\n",
      "len(abNAMES)=13\n",
      "['Manager_Matt___Manager', 'AssistMngr_Mike___AssistMngr', 'AssistMngr_Tanner___AssistMngr', 'RetailAssoc_Jake___RetailAssoc', 'RetailAssoc_James___RetailAssoc', 'RetailAssoc_Jane___RetailAssoc', 'RetailAssoc_John___RetailAssoc', 'RetailAssoc_Jim___RetailAssoc', 'RetailAssoc_Jenny___RetailAssoc', 'RetailAssoc_Jeremy___RetailAssoc', 'RetailAssoc_Judy___RetailAssoc', 'RetailAssoc_Julie___RetailAssoc', 'RetailAssoc_Jeffrey___RetailAssoc']\n",
      "\n",
      "len(thNAMES)=5\n",
      "thNAMES=['thCumSlots', 'thSickProb', 'thCumMerits', 'thContSlots', 'thSelect']\n",
      "\n",
      "SIM_MU_D={'Manager': 4, 'AssistMngr': 2, 'RetailAssoc': 2}\n",
      "\n",
      "SIM_EVENT_TIME_D={'Manager': None, 'AssistMngr': None, 'RetailAssoc': None}\n",
      "\n",
      "SIM_MU_DELTA_D={'Manager': None, 'AssistMngr': None, 'RetailAssoc': None}\n"
     ]
    }
   ],
   "source": [
    "#| export\n",
    "# from collections import namedtuple, defaultdict\n",
    "# import numpy as np\n",
    "import pandas as pd\n",
    "# import matplotlib as mpl\n",
    "# import matplotlib.pyplot as plt\n",
    "from copy import copy\n",
    "# import time\n",
    "# import math\n",
    "# from pprint import pprint\n",
    "## !pip install -U \"ray\"\n",
    "# import ray\n",
    "# import json\n",
    "\n",
    "import AIShiftScheduler_KE5.config as cf\n",
    "from AIShiftScheduler_KE5.model import *\n",
    "from AIShiftScheduler_KE5.policy import *"
   ]
  },
  {
   "cell_type": "code",
   "execution_count": null,
   "metadata": {},
   "outputs": [],
   "source": [
    "# pd.__version__"
   ]
  },
  {
   "cell_type": "code",
   "execution_count": null,
   "metadata": {},
   "outputs": [],
   "source": [
    "# !pip freeze | grep pandas\n",
    "# !pip freeze|grep openpyxl\n",
    "# !pip freeze"
   ]
  },
  {
   "cell_type": "code",
   "execution_count": null,
   "metadata": {},
   "outputs": [],
   "source": [
    "# !pip install -U ray==2.8.1\n",
    "# !pip install openpyxl"
   ]
  },
  {
   "cell_type": "code",
   "execution_count": null,
   "metadata": {},
   "outputs": [],
   "source": [
    "# #| export\n",
    "# pd.options.display.float_format = '{:,.4f}'.format\n",
    "# pd.set_option('display.max_columns', None)\n",
    "# pd.set_option('display.max_rows', None)\n",
    "# pd.set_option('display.max_colwidth', None)"
   ]
  },
  {
   "cell_type": "code",
   "execution_count": null,
   "metadata": {},
   "outputs": [],
   "source": [
    "# #| export\n",
    "# base_dir = '.'\n",
    "# file_name = 'shift_scheduler_data.xlsx'"
   ]
  },
  {
   "cell_type": "code",
   "execution_count": null,
   "metadata": {},
   "outputs": [],
   "source": [
    "#| export\n",
    "def get_best_theta_Alloc():\n",
    "  best_theta_Alloc = \\\n",
    "    Policy(None).build_theta({\n",
    "      'thCumSlots': cf.BEST_THETA_Alloc[0],\n",
    "      'thSickProb': cf.BEST_THETA_Alloc[1],\n",
    "      'thCumMerits': cf.BEST_THETA_Alloc[2],\n",
    "      'thContSlots': cf.BEST_THETA_Alloc[3],\n",
    "      'thSelect': cf.BEST_THETA_Alloc[4]\n",
    "    })\n",
    "  return best_theta_Alloc"
   ]
  },
  {
   "cell_type": "code",
   "execution_count": null,
   "metadata": {},
   "outputs": [],
   "source": [
    "#| export\n",
    "def do_infer(L, T, best_theta_Alloc):\n",
    "  # global DEM, MER, \\\n",
    "  # global ThetaStar_expCbarcum_Alloc_evalu_opt, ThetaStar_expCtilcum_Alloc_evalu_opt, \\\n",
    "  # Best_theta_Alloc_evalu_opt, Worst_theta_Alloc_evalu_opt, \\\n",
    "  # Record_Alloc_evalu_opt, Df_Alloc_evalu_opt\n",
    "\n",
    "  M = Model()\n",
    "  P = Policy(M)\n",
    "  ## DEM = DemandSimulator(seed=SEED_EVALU)\n",
    "  ## MER = MeritSimulator(seed=SEED_EVALU)\n",
    "  # thetasOpt = []; thetasOpt.append(get_best_theta_Alloc()) ##from storage\n",
    "  thetasOpt = []; thetasOpt.append(best_theta_Alloc) ##from storage\n",
    "  # ThetaStar_expCbarcum_Alloc_evalu_opt, ThetaStar_expCtilcum_Alloc_evalu_opt, \\\n",
    "  # _, _, \\\n",
    "  # Best_theta_Alloc_evalu_opt, Worst_theta_Alloc_evalu_opt, \\\n",
    "  # _, _, \\\n",
    "  # _, _, \\\n",
    "  # Record_Alloc_evalu_opt = \\\n",
    "  #  P.perform_grid_search_sample_paths('X__Alloc', thetasOpt, L, T)\n",
    "  return \\\n",
    "    P.perform_grid_search_sample_paths('X__Alloc', thetasOpt, L, T)\n",
    "    \n",
    "  # Df_Alloc_evalu_opt = pd.DataFrame.from_records(\n",
    "  #     Record_Alloc_evalu_opt[:First_n_t], columns=Labels)\n",
    "  # print(\n",
    "  #   f'{ThetaStar_expCbarcum_Alloc_evalu_opt.iloc[-1]=:.2f}')"
   ]
  },
  {
   "cell_type": "code",
   "execution_count": null,
   "metadata": {},
   "outputs": [],
   "source": [
    "#| export\n",
    "from io import StringIO\n",
    "def prepare_schedule_shifts(df, buf):\n",
    "  mask = df.columns.str.contains('Allocd_t')\n",
    "  resource_allocs = list(df.columns[mask])\n",
    "  sched = copy(df)\n",
    "  schedule = sched[['dt']+resource_allocs]\n",
    "\n",
    "  buf.write(f\"SCHEDULE SHIFTS:\\n\")\n",
    "  buf.write(f\"================\\n\")\n",
    "  for res_alloc in resource_allocs:\n",
    "    _,_,id,resType,_,_,_ = res_alloc.split('_')\n",
    "    resName = id+'_'+resType\n",
    "    buf.write(f'\\n************** {resName}:\\n')\n",
    "    sched_list = list(schedule.loc[\n",
    "      schedule[res_alloc] == True,\n",
    "      ['dt', res_alloc]\n",
    "    ]['dt'])\n",
    "    if len(sched_list) > 0:\n",
    "      ts_1 = sched_list[0]\n",
    "      dow_1 = sched_list[0].day_of_week\n",
    "      buf.write(f\"{(sched_list[0]-pd.Timedelta(cf.DATE_TIME_DELTA)).strftime('%a %b %d %Hh%M')}\\n\")\n",
    "      for ts in sched_list:\n",
    "        dow = ts.day_of_week\n",
    "        if dow != dow_1:\n",
    "          buf.write(f\"{(ts_1).strftime('%a %b %d %Hh%M')}\\n\\n\")\n",
    "          buf.write(f\"{(ts-pd.Timedelta(cf.DATE_TIME_DELTA)).strftime('%a %b %d %Hh%M')}\\n\")\n",
    "        dow_1 = dow\n",
    "        ts_1 = ts\n",
    "      buf.write(f\"{(sched_list[-1]).strftime('%a %b %d %Hh%M')}\\n\")\n",
    "  buf.write(f'\\n{cf.CONTIGUOUS_REWARD=}\\n')\n",
    "  buf.write(f'{cf.MAX_DAILY_SLOT_RUN=} ({cf.RESOLUTION}s)\\n')\n",
    "  buf.write(f'{cf.TH_CumSlots_SPEC=}\\n')\n",
    "  buf.write(f'{cf.TH_SickProb_SPEC=}\\n')\n",
    "  buf.write(f'{cf.TH_CumMerits_SPEC=}\\n')\n",
    "  buf.write(f'{cf.TH_ContSlots_SPEC=}\\n')\n",
    "  buf.write(f'{cf.TH_Select_SPEC=}\\n')\n",
    "  return buf.getvalue()"
   ]
  },
  {
   "cell_type": "code",
   "execution_count": null,
   "metadata": {},
   "outputs": [],
   "source": [
    "#| export\n",
    "from io import StringIO\n",
    "def prepare_schedule_slots(df, buf):\n",
    "  gap_mins = gap_minutes(cf.RESOLUTION)\n",
    "  mask = df.columns.str.contains('Allocd_t')\n",
    "  resource_allocs = list(df.columns[mask])\n",
    "  sched = copy(df)\n",
    "  schedule = sched[['dt']+resource_allocs]\n",
    "\n",
    "  buf.write(f\"SCHEDULE SLOTS:\\n\")\n",
    "  buf.write(f\"===============\\n\")\n",
    "  n_gaps = 0\n",
    "  for res_alloc in resource_allocs:\n",
    "    _,_,id,resType,_,_,_ = res_alloc.split('_')\n",
    "    resName = id+'_'+resType\n",
    "    buf.write(f'\\n************** {resName}:\\n')\n",
    "    sched_list = list(schedule.loc[\n",
    "      schedule[res_alloc] == True,\n",
    "      ['dt', res_alloc]\n",
    "    ]['dt'])\n",
    "    if len(sched_list) > 0:\n",
    "      ## print each slot and indicate gaps\n",
    "      ts_1 = sched_list[0]\n",
    "      dow_1 = -1\n",
    "      for ts in sched_list:\n",
    "        dow = ts.day_of_week\n",
    "        if dow != dow_1: buf.write('\\n')\n",
    "        if (int((ts.to_datetime64() - ts_1.to_datetime64())/(1e9*60)) > gap_mins)\\\n",
    "          and (dow == dow_1):\n",
    "          n_gaps += 1\n",
    "          buf.write(f\"{(ts-pd.Timedelta(cf.DATE_TIME_DELTA)).strftime('%a %b %d %Hh%M')} GAP\\n\")\n",
    "        else:\n",
    "          buf.write(f\"{(ts-pd.Timedelta(cf.DATE_TIME_DELTA)).strftime('%a %b %d %Hh%M')}\\n\")\n",
    "        dow_1 = dow\n",
    "        ts_1 = ts\n",
    "  buf.write(f'\\nTOTAL NUMBER OF GAPS FOR ALL RESOURCES: {n_gaps}\\n')\n",
    "  buf.write(f'{cf.CONTIGUOUS_REWARD=}\\n')\n",
    "  buf.write(f'{cf.MAX_DAILY_SLOT_RUN=} ({cf.RESOLUTION}s)\\n')\n",
    "  buf.write(f'{cf.TH_CumSlots_SPEC=}\\n')\n",
    "  buf.write(f'{cf.TH_SickProb_SPEC=}\\n')\n",
    "  buf.write(f'{cf.TH_CumMerits_SPEC=}\\n')\n",
    "  buf.write(f'{cf.TH_ContSlots_SPEC=}\\n')\n",
    "  buf.write(f'{cf.TH_Select_SPEC=}\\n')\n",
    "  return buf.getvalue()"
   ]
  },
  {
   "cell_type": "code",
   "execution_count": null,
   "metadata": {},
   "outputs": [],
   "source": []
  },
  {
   "cell_type": "code",
   "execution_count": null,
   "metadata": {},
   "outputs": [],
   "source": []
  },
  {
   "cell_type": "code",
   "execution_count": null,
   "metadata": {},
   "outputs": [],
   "source": []
  },
  {
   "cell_type": "code",
   "execution_count": null,
   "metadata": {},
   "outputs": [],
   "source": []
  },
  {
   "cell_type": "code",
   "execution_count": null,
   "metadata": {},
   "outputs": [],
   "source": []
  },
  {
   "cell_type": "code",
   "execution_count": null,
   "metadata": {},
   "outputs": [],
   "source": []
  },
  {
   "cell_type": "code",
   "execution_count": null,
   "metadata": {},
   "outputs": [],
   "source": []
  },
  {
   "cell_type": "code",
   "execution_count": null,
   "metadata": {},
   "outputs": [],
   "source": []
  },
  {
   "cell_type": "code",
   "execution_count": null,
   "metadata": {},
   "outputs": [],
   "source": []
  },
  {
   "cell_type": "code",
   "execution_count": null,
   "metadata": {},
   "outputs": [],
   "source": []
  },
  {
   "cell_type": "code",
   "execution_count": null,
   "metadata": {},
   "outputs": [],
   "source": []
  },
  {
   "cell_type": "code",
   "execution_count": null,
   "metadata": {},
   "outputs": [],
   "source": []
  },
  {
   "cell_type": "code",
   "execution_count": null,
   "metadata": {},
   "outputs": [],
   "source": []
  },
  {
   "cell_type": "code",
   "execution_count": null,
   "metadata": {},
   "outputs": [],
   "source": [
    "#| hide\n",
    "import nbdev; nbdev.nbdev_export()"
   ]
  },
  {
   "cell_type": "code",
   "execution_count": null,
   "metadata": {},
   "outputs": [],
   "source": []
  }
 ],
 "metadata": {
  "kernelspec": {
   "display_name": "python3",
   "language": "python",
   "name": "python3"
  }
 },
 "nbformat": 4,
 "nbformat_minor": 4
}
