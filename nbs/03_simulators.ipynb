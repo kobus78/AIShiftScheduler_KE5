{
 "cells": [
  {
   "cell_type": "markdown",
   "metadata": {},
   "source": [
    "# simulators\n",
    "\n",
    "> Simulates data for demands & merits\n",
    "- order: 3"
   ]
  },
  {
   "cell_type": "code",
   "execution_count": null,
   "metadata": {},
   "outputs": [],
   "source": [
    "#| default_exp simulators"
   ]
  },
  {
   "cell_type": "code",
   "execution_count": null,
   "metadata": {},
   "outputs": [],
   "source": [
    "# Set up autoreload\n",
    "%load_ext autoreload\n",
    "%autoreload 2"
   ]
  },
  {
   "cell_type": "code",
   "execution_count": null,
   "metadata": {},
   "outputs": [],
   "source": [
    "#| hide\n",
    "from nbdev.showdoc import *"
   ]
  },
  {
   "cell_type": "code",
   "execution_count": null,
   "metadata": {},
   "outputs": [
    {
     "name": "stdout",
     "output_type": "stream",
     "text": [
      "\n",
      "len(RESOURCE_TYPES)=3\n",
      "['Manager', 'AssistMngr', 'RetailAssoc']\n",
      "\n",
      "len(TYPES)=13\n",
      "['Manager', 'AssistMngr', 'AssistMngr', 'RetailAssoc', 'RetailAssoc', 'RetailAssoc', 'RetailAssoc', 'RetailAssoc', 'RetailAssoc', 'RetailAssoc', 'RetailAssoc', 'RetailAssoc', 'RetailAssoc']\n",
      "len(aNAMES)=13\n",
      "['Manager_Matt', 'AssistMngr_Mike', 'AssistMngr_Tanner', 'RetailAssoc_Jake', 'RetailAssoc_James', 'RetailAssoc_Jane', 'RetailAssoc_John', 'RetailAssoc_Jim', 'RetailAssoc_Jenny', 'RetailAssoc_Jeremy', 'RetailAssoc_Judy', 'RetailAssoc_Julie', 'RetailAssoc_Jeffrey']\n",
      "\n",
      "len(bNAMES)=3\n",
      "['Manager', 'AssistMngr', 'RetailAssoc']\n",
      "\n",
      "len(abNAMES)=13\n",
      "['Manager_Matt___Manager', 'AssistMngr_Mike___AssistMngr', 'AssistMngr_Tanner___AssistMngr', 'RetailAssoc_Jake___RetailAssoc', 'RetailAssoc_James___RetailAssoc', 'RetailAssoc_Jane___RetailAssoc', 'RetailAssoc_John___RetailAssoc', 'RetailAssoc_Jim___RetailAssoc', 'RetailAssoc_Jenny___RetailAssoc', 'RetailAssoc_Jeremy___RetailAssoc', 'RetailAssoc_Judy___RetailAssoc', 'RetailAssoc_Julie___RetailAssoc', 'RetailAssoc_Jeffrey___RetailAssoc']\n",
      "\n",
      "len(thNAMES)=5\n",
      "thNAMES=['thCumSlots', 'thSickProb', 'thCumMerits', 'thContSlots', 'thSelect']\n",
      "\n",
      "SIM_MU_D={'Manager': 4, 'AssistMngr': 2, 'RetailAssoc': 2}\n",
      "\n",
      "SIM_EVENT_TIME_D={'Manager': None, 'AssistMngr': None, 'RetailAssoc': None}\n",
      "\n",
      "SIM_MU_DELTA_D={'Manager': None, 'AssistMngr': None, 'RetailAssoc': None}\n"
     ]
    }
   ],
   "source": [
    "#| export\n",
    "# from collections import namedtuple, defaultdict\n",
    "import numpy as np\n",
    "import pandas as pd\n",
    "import matplotlib as mpl\n",
    "import matplotlib.pyplot as plt\n",
    "# from copy import copy\n",
    "# import time\n",
    "# import math\n",
    "# from pprint import pprint\n",
    "## !pip install -U \"ray\"\n",
    "# import ray\n",
    "# import json\n",
    "import random\n",
    "\n",
    "# from AIShiftScheduler_KE5.config import *\n",
    "import AIShiftScheduler_KE5.config as cf\n",
    "# from AIShiftScheduler_KE5.loader import *\n",
    "import AIShiftScheduler_KE5.loader as ldr"
   ]
  },
  {
   "cell_type": "code",
   "execution_count": null,
   "metadata": {},
   "outputs": [
    {
     "data": {
      "text/plain": [
       "'1.24.4'"
      ]
     },
     "execution_count": null,
     "metadata": {},
     "output_type": "execute_result"
    }
   ],
   "source": [
    "np.__version__"
   ]
  },
  {
   "cell_type": "code",
   "execution_count": null,
   "metadata": {},
   "outputs": [],
   "source": [
    "# !pip freeze | grep pandas\n",
    "# !pip freeze|grep openpyxl\n",
    "# !pip freeze"
   ]
  },
  {
   "cell_type": "code",
   "execution_count": null,
   "metadata": {},
   "outputs": [],
   "source": [
    "# !pip install -U ray==2.8.1\n",
    "# !pip install openpyxl"
   ]
  },
  {
   "cell_type": "code",
   "execution_count": null,
   "metadata": {},
   "outputs": [],
   "source": [
    "#| export\n",
    "pd.options.display.float_format = '{:,.4f}'.format\n",
    "pd.set_option('display.max_columns', None)\n",
    "pd.set_option('display.max_rows', None)\n",
    "pd.set_option('display.max_colwidth', None)"
   ]
  },
  {
   "cell_type": "markdown",
   "metadata": {},
   "source": [
    "## Demand simulation"
   ]
  },
  {
   "cell_type": "code",
   "execution_count": null,
   "metadata": {},
   "outputs": [],
   "source": [
    "class DemandSimulator():\n",
    "  def __init__(self,\n",
    "    T__sim=cf.SIM_T,\n",
    "    muD=cf.SIM_MU_D,\n",
    "    eventTimeD=cf.SIM_EVENT_TIME_D,\n",
    "    muDeltaD=cf.SIM_MU_DELTA_D,\n",
    "    seed=None):\n",
    "    self.time = 0\n",
    "    self.T__sim = cf.SIM_T\n",
    "    self.muD = cf.SIM_MU_D\n",
    "    self.eventTimeD = cf.SIM_EVENT_TIME_D\n",
    "    self.muDeltaD = cf.SIM_MU_DELTA_D\n",
    "    self.prng = np.random.RandomState(seed)\n",
    "\n",
    "  def simulate(self):\n",
    "    if self.time > self.T__sim - 1:\n",
    "      self.time = 0\n",
    "    D_tt1 = {}\n",
    "    for bn in cf.bNAMES:\n",
    "      if self.eventTimeD[bn] and self.time > self.eventTimeD[bn]: ##event for entity\n",
    "        D_tt1[bn] = self.muDeltaD[bn] + self.prng.poisson(self.muD[bn]) ##after event\n",
    "      else:\n",
    "        D_tt1[bn] = self.prng.poisson(self.muD[bn])\n",
    "    self.time += 1\n",
    "    return {bn: max(0, D_tt1[bn]) for bn in cf.bNAMES} ##always positive"
   ]
  },
  {
   "cell_type": "markdown",
   "metadata": {},
   "source": [
    "### Example of usage"
   ]
  },
  {
   "cell_type": "code",
   "execution_count": null,
   "metadata": {},
   "outputs": [
    {
     "data": {
      "text/html": [
       "<div>\n",
       "<style scoped>\n",
       "    .dataframe tbody tr th:only-of-type {\n",
       "        vertical-align: middle;\n",
       "    }\n",
       "\n",
       "    .dataframe tbody tr th {\n",
       "        vertical-align: top;\n",
       "    }\n",
       "\n",
       "    .dataframe thead th {\n",
       "        text-align: right;\n",
       "    }\n",
       "</style>\n",
       "<table border=\"1\" class=\"dataframe\">\n",
       "  <thead>\n",
       "    <tr style=\"text-align: right;\">\n",
       "      <th></th>\n",
       "      <th>Manager_dem</th>\n",
       "      <th>AssistMngr_dem</th>\n",
       "      <th>RetailAssoc_dem</th>\n",
       "    </tr>\n",
       "  </thead>\n",
       "  <tbody>\n",
       "    <tr>\n",
       "      <th>0</th>\n",
       "      <td>5</td>\n",
       "      <td>4</td>\n",
       "      <td>3</td>\n",
       "    </tr>\n",
       "    <tr>\n",
       "      <th>1</th>\n",
       "      <td>2</td>\n",
       "      <td>4</td>\n",
       "      <td>3</td>\n",
       "    </tr>\n",
       "    <tr>\n",
       "      <th>2</th>\n",
       "      <td>6</td>\n",
       "      <td>2</td>\n",
       "      <td>3</td>\n",
       "    </tr>\n",
       "    <tr>\n",
       "      <th>3</th>\n",
       "      <td>1</td>\n",
       "      <td>3</td>\n",
       "      <td>2</td>\n",
       "    </tr>\n",
       "    <tr>\n",
       "      <th>4</th>\n",
       "      <td>3</td>\n",
       "      <td>6</td>\n",
       "      <td>2</td>\n",
       "    </tr>\n",
       "    <tr>\n",
       "      <th>5</th>\n",
       "      <td>2</td>\n",
       "      <td>1</td>\n",
       "      <td>0</td>\n",
       "    </tr>\n",
       "    <tr>\n",
       "      <th>6</th>\n",
       "      <td>4</td>\n",
       "      <td>3</td>\n",
       "      <td>1</td>\n",
       "    </tr>\n",
       "    <tr>\n",
       "      <th>7</th>\n",
       "      <td>7</td>\n",
       "      <td>1</td>\n",
       "      <td>4</td>\n",
       "    </tr>\n",
       "    <tr>\n",
       "      <th>8</th>\n",
       "      <td>3</td>\n",
       "      <td>5</td>\n",
       "      <td>0</td>\n",
       "    </tr>\n",
       "    <tr>\n",
       "      <th>9</th>\n",
       "      <td>4</td>\n",
       "      <td>3</td>\n",
       "      <td>1</td>\n",
       "    </tr>\n",
       "  </tbody>\n",
       "</table>\n",
       "</div>"
      ],
      "text/plain": [
       "   Manager_dem  AssistMngr_dem  RetailAssoc_dem\n",
       "0            5               4                3\n",
       "1            2               4                3\n",
       "2            6               2                3\n",
       "3            1               3                2\n",
       "4            3               6                2\n",
       "5            2               1                0\n",
       "6            4               3                1\n",
       "7            7               1                4\n",
       "8            3               5                0\n",
       "9            4               3                1"
      ]
     },
     "execution_count": null,
     "metadata": {},
     "output_type": "execute_result"
    }
   ],
   "source": [
    "dem_sim = DemandSimulator(seed=1234)\n",
    "DemandData = []\n",
    "for i in range(cf.SIM_T):\n",
    "  d = list(dem_sim.simulate().values())\n",
    "  DemandData.append(d)\n",
    "labels = [f'{bn}_dem' for bn in cf.bNAMES]\n",
    "df = pd.DataFrame.from_records(data=DemandData, columns=labels); df[:10]"
   ]
  },
  {
   "cell_type": "code",
   "execution_count": null,
   "metadata": {},
   "outputs": [],
   "source": [
    "def plot_output(df1, df2):\n",
    "  n_charts = len(cf.bNAMES)\n",
    "  ylabelsize = 16\n",
    "  mpl.rcParams['lines.linewidth'] = 1.2\n",
    "  default_colors = plt.rcParams['axes.prop_cycle'].by_key()['color']\n",
    "  fig, axs = plt.subplots(n_charts, sharex=True)\n",
    "  fig.set_figwidth(13); fig.set_figheight(9)\n",
    "  fig.suptitle('Demand Simulation', fontsize=20)\n",
    "\n",
    "  for i,bn in enumerate(cf.bNAMES):\n",
    "    axs[i].set_title(f'Demanded {bn}')\n",
    "    axs[i].set_ylim(auto=True); axs[i].spines['top'].set_visible(False); axs[i].spines['right'].set_visible(True); axs[i].spines['bottom'].set_visible(False)\n",
    "    axs[i].step(df1[f'{bn}_dem'], 'r-')\n",
    "    ## axs[i].axhline(y=dem_sim.muD[e], color='k', linestyle=':')\n",
    "    axs[i].axhline(y=0, color='k', linestyle=':')\n",
    "\n",
    "  axs[i].set_xlabel('$t\\ \\mathrm{[hourly\\ windows]}$', rotation=0, ha='center', va='center', fontweight='bold', size=ylabelsize)"
   ]
  },
  {
   "cell_type": "code",
   "execution_count": null,
   "metadata": {},
   "outputs": [
    {
     "data": {
      "image/png": "[encoded data removed]",
      "text/plain": [
       "<Figure size 1300x900 with 3 Axes>"
      ]
     },
     "metadata": {},
     "output_type": "display_data"
    }
   ],
   "source": [
    "plot_output(df, None)"
   ]
  },
  {
   "cell_type": "markdown",
   "metadata": {},
   "source": [
    "## Merit simulation"
   ]
  },
  {
   "cell_type": "code",
   "execution_count": null,
   "metadata": {},
   "outputs": [],
   "source": [
    "#/// MERIT_PROBS = load_merit_probs(f'{base_dir}/{file_name}')"
   ]
  },
  {
   "cell_type": "code",
   "execution_count": null,
   "metadata": {},
   "outputs": [
    {
     "data": {
      "text/html": [
       "<div>\n",
       "<style scoped>\n",
       "    .dataframe tbody tr th:only-of-type {\n",
       "        vertical-align: middle;\n",
       "    }\n",
       "\n",
       "    .dataframe tbody tr th {\n",
       "        vertical-align: top;\n",
       "    }\n",
       "\n",
       "    .dataframe thead th {\n",
       "        text-align: right;\n",
       "    }\n",
       "</style>\n",
       "<table border=\"1\" class=\"dataframe\">\n",
       "  <thead>\n",
       "    <tr style=\"text-align: right;\">\n",
       "      <th></th>\n",
       "      <th>ResourceId</th>\n",
       "      <th>MeritProb</th>\n",
       "      <th>DemeritProb</th>\n",
       "    </tr>\n",
       "  </thead>\n",
       "  <tbody>\n",
       "    <tr>\n",
       "      <th>0</th>\n",
       "      <td>1</td>\n",
       "      <td>0.0100</td>\n",
       "      <td>0.0400</td>\n",
       "    </tr>\n",
       "    <tr>\n",
       "      <th>1</th>\n",
       "      <td>2</td>\n",
       "      <td>0.2000</td>\n",
       "      <td>0.0900</td>\n",
       "    </tr>\n",
       "    <tr>\n",
       "      <th>2</th>\n",
       "      <td>3</td>\n",
       "      <td>0.3000</td>\n",
       "      <td>0.0300</td>\n",
       "    </tr>\n",
       "    <tr>\n",
       "      <th>3</th>\n",
       "      <td>4</td>\n",
       "      <td>0.2000</td>\n",
       "      <td>0.1500</td>\n",
       "    </tr>\n",
       "    <tr>\n",
       "      <th>4</th>\n",
       "      <td>5</td>\n",
       "      <td>0.0500</td>\n",
       "      <td>0.0200</td>\n",
       "    </tr>\n",
       "    <tr>\n",
       "      <th>5</th>\n",
       "      <td>6</td>\n",
       "      <td>0.1000</td>\n",
       "      <td>0.0100</td>\n",
       "    </tr>\n",
       "    <tr>\n",
       "      <th>6</th>\n",
       "      <td>7</td>\n",
       "      <td>0.2000</td>\n",
       "      <td>0.0200</td>\n",
       "    </tr>\n",
       "    <tr>\n",
       "      <th>7</th>\n",
       "      <td>8</td>\n",
       "      <td>0.3000</td>\n",
       "      <td>0.3000</td>\n",
       "    </tr>\n",
       "    <tr>\n",
       "      <th>8</th>\n",
       "      <td>9</td>\n",
       "      <td>0.2000</td>\n",
       "      <td>0.0100</td>\n",
       "    </tr>\n",
       "    <tr>\n",
       "      <th>9</th>\n",
       "      <td>10</td>\n",
       "      <td>0.0600</td>\n",
       "      <td>0.1200</td>\n",
       "    </tr>\n",
       "  </tbody>\n",
       "</table>\n",
       "</div>"
      ],
      "text/plain": [
       "  ResourceId  MeritProb  DemeritProb\n",
       "0          1     0.0100       0.0400\n",
       "1          2     0.2000       0.0900\n",
       "2          3     0.3000       0.0300\n",
       "3          4     0.2000       0.1500\n",
       "4          5     0.0500       0.0200\n",
       "5          6     0.1000       0.0100\n",
       "6          7     0.2000       0.0200\n",
       "7          8     0.3000       0.3000\n",
       "8          9     0.2000       0.0100\n",
       "9         10     0.0600       0.1200"
      ]
     },
     "execution_count": null,
     "metadata": {},
     "output_type": "execute_result"
    }
   ],
   "source": [
    "cf.MERIT_PROBS"
   ]
  },
  {
   "cell_type": "code",
   "execution_count": null,
   "metadata": {},
   "outputs": [],
   "source": [
    "## copy from the generated file and paste into ExogInfo tab of shift_scheduler_data.xlsx\n",
    "class MeritSimulator():\n",
    "  def __init__(self, seed=None):\n",
    "    self.prng = np.random.RandomState(seed)\n",
    "\n",
    "  def simulate(self):\n",
    "    M_tt1 = {}\n",
    "    for an in cf.aNAMES:\n",
    "      resourceId,_ = an.split('_')\n",
    "      a,b = cf.MERIT_PROBS.loc[\n",
    "        cf.MERIT_PROBS['ResourceId'] == resourceId,\n",
    "        ['MeritProb', 'DemeritProb']\n",
    "      ].values[0]\n",
    "      if np.random.uniform() < a: merit = 1\n",
    "      else: merit = 0\n",
    "      if np.random.uniform() < b: demerit = 1\n",
    "      else: demerit = 0\n",
    "      M_tt1[an] = merit - demerit ##net merit\n",
    "    return M_tt1"
   ]
  },
  {
   "cell_type": "markdown",
   "metadata": {},
   "source": [
    "### Example of usage"
   ]
  },
  {
   "cell_type": "code",
   "execution_count": null,
   "metadata": {},
   "outputs": [],
   "source": [
    "## breaks, need to fix\n",
    "# ## copy from the generated file and paste into ExogInfo tab of shift_scheduler_data.xlsx\n",
    "# mer_sim = MeritSimulator(seed=1234)\n",
    "# MeritData = []\n",
    "# # for i in range(100):\n",
    "# for i in range(672):\n",
    "#   mer = list(mer_sim.simulate().values())\n",
    "#   MeritData.append(mer)\n",
    "# labels = [f'{an}_merit' for an in cf.aNAMES]\n",
    "# df = pd.DataFrame.from_records(data=MeritData, columns=labels); df[:10]"
   ]
  },
  {
   "cell_type": "code",
   "execution_count": null,
   "metadata": {},
   "outputs": [],
   "source": [
    "# ////////////////////////////////////"
   ]
  },
  {
   "cell_type": "code",
   "execution_count": null,
   "metadata": {},
   "outputs": [
    {
     "data": {
      "text/plain": [
       "['Manager', 'AssistMngr', 'RetailAssoc']"
      ]
     },
     "execution_count": null,
     "metadata": {},
     "output_type": "execute_result"
    }
   ],
   "source": [
    "# cf.bNAMES"
   ]
  },
  {
   "cell_type": "code",
   "execution_count": null,
   "metadata": {},
   "outputs": [],
   "source": [
    "# an = cf.aNAMES[0]"
   ]
  },
  {
   "cell_type": "code",
   "execution_count": null,
   "metadata": {},
   "outputs": [
    {
     "data": {
      "text/plain": [
       "'Matt'"
      ]
     },
     "execution_count": null,
     "metadata": {},
     "output_type": "execute_result"
    }
   ],
   "source": [
    "# # resourceId,_ = an.split('_'); resourceId\n",
    "# _,resourceId = an.split('_'); resourceId"
   ]
  },
  {
   "cell_type": "code",
   "execution_count": null,
   "metadata": {},
   "outputs": [
    {
     "data": {
      "text/html": [
       "<div>\n",
       "<style scoped>\n",
       "    .dataframe tbody tr th:only-of-type {\n",
       "        vertical-align: middle;\n",
       "    }\n",
       "\n",
       "    .dataframe tbody tr th {\n",
       "        vertical-align: top;\n",
       "    }\n",
       "\n",
       "    .dataframe thead th {\n",
       "        text-align: right;\n",
       "    }\n",
       "</style>\n",
       "<table border=\"1\" class=\"dataframe\">\n",
       "  <thead>\n",
       "    <tr style=\"text-align: right;\">\n",
       "      <th></th>\n",
       "      <th>ResourceId</th>\n",
       "      <th>MeritProb</th>\n",
       "      <th>DemeritProb</th>\n",
       "    </tr>\n",
       "  </thead>\n",
       "  <tbody>\n",
       "    <tr>\n",
       "      <th>0</th>\n",
       "      <td>1</td>\n",
       "      <td>0.0100</td>\n",
       "      <td>0.0400</td>\n",
       "    </tr>\n",
       "    <tr>\n",
       "      <th>1</th>\n",
       "      <td>2</td>\n",
       "      <td>0.2000</td>\n",
       "      <td>0.0900</td>\n",
       "    </tr>\n",
       "    <tr>\n",
       "      <th>2</th>\n",
       "      <td>3</td>\n",
       "      <td>0.3000</td>\n",
       "      <td>0.0300</td>\n",
       "    </tr>\n",
       "    <tr>\n",
       "      <th>3</th>\n",
       "      <td>4</td>\n",
       "      <td>0.2000</td>\n",
       "      <td>0.1500</td>\n",
       "    </tr>\n",
       "    <tr>\n",
       "      <th>4</th>\n",
       "      <td>5</td>\n",
       "      <td>0.0500</td>\n",
       "      <td>0.0200</td>\n",
       "    </tr>\n",
       "    <tr>\n",
       "      <th>5</th>\n",
       "      <td>6</td>\n",
       "      <td>0.1000</td>\n",
       "      <td>0.0100</td>\n",
       "    </tr>\n",
       "    <tr>\n",
       "      <th>6</th>\n",
       "      <td>7</td>\n",
       "      <td>0.2000</td>\n",
       "      <td>0.0200</td>\n",
       "    </tr>\n",
       "    <tr>\n",
       "      <th>7</th>\n",
       "      <td>8</td>\n",
       "      <td>0.3000</td>\n",
       "      <td>0.3000</td>\n",
       "    </tr>\n",
       "    <tr>\n",
       "      <th>8</th>\n",
       "      <td>9</td>\n",
       "      <td>0.2000</td>\n",
       "      <td>0.0100</td>\n",
       "    </tr>\n",
       "    <tr>\n",
       "      <th>9</th>\n",
       "      <td>10</td>\n",
       "      <td>0.0600</td>\n",
       "      <td>0.1200</td>\n",
       "    </tr>\n",
       "  </tbody>\n",
       "</table>\n",
       "</div>"
      ],
      "text/plain": [
       "  ResourceId  MeritProb  DemeritProb\n",
       "0          1     0.0100       0.0400\n",
       "1          2     0.2000       0.0900\n",
       "2          3     0.3000       0.0300\n",
       "3          4     0.2000       0.1500\n",
       "4          5     0.0500       0.0200\n",
       "5          6     0.1000       0.0100\n",
       "6          7     0.2000       0.0200\n",
       "7          8     0.3000       0.3000\n",
       "8          9     0.2000       0.0100\n",
       "9         10     0.0600       0.1200"
      ]
     },
     "execution_count": null,
     "metadata": {},
     "output_type": "execute_result"
    }
   ],
   "source": [
    "# # MERIT_PROBS\n",
    "# cf.MERIT_PROBS['ResourceId']"
   ]
  },
  {
   "cell_type": "code",
   "execution_count": null,
   "metadata": {},
   "outputs": [],
   "source": [
    "# ///\n",
    "# a,b = MERIT_PROBS.loc[\n",
    "      #   MERIT_PROBS['ResourceId'] == resourceId,\n",
    "      #   ['MeritProb', 'DemeritProb']\n",
    "      # ].values[0]"
   ]
  },
  {
   "cell_type": "code",
   "execution_count": null,
   "metadata": {},
   "outputs": [],
   "source": []
  },
  {
   "cell_type": "code",
   "execution_count": null,
   "metadata": {},
   "outputs": [
    {
     "data": {
      "text/plain": [
       "['Manager_Matt',\n",
       " 'AssistMngr_Mike',\n",
       " 'AssistMngr_Tanner',\n",
       " 'RetailAssoc_Jake',\n",
       " 'RetailAssoc_James',\n",
       " 'RetailAssoc_Jane',\n",
       " 'RetailAssoc_John',\n",
       " 'RetailAssoc_Jim',\n",
       " 'RetailAssoc_Jenny',\n",
       " 'RetailAssoc_Jeremy',\n",
       " 'RetailAssoc_Judy',\n",
       " 'RetailAssoc_Julie',\n",
       " 'RetailAssoc_Jeffrey']"
      ]
     },
     "execution_count": null,
     "metadata": {},
     "output_type": "execute_result"
    }
   ],
   "source": [
    "# aNAMES"
   ]
  },
  {
   "cell_type": "code",
   "execution_count": null,
   "metadata": {},
   "outputs": [],
   "source": [
    "# \\\\\\\\\\\\\\\\\\\\\\\\\\\\"
   ]
  },
  {
   "cell_type": "code",
   "execution_count": null,
   "metadata": {},
   "outputs": [],
   "source": [
    "## copy from this file and paste into ExogInfo tab of shift_scheduler_data.xlsx\n",
    "## df.to_excel('merits.xlsx', index=False)"
   ]
  },
  {
   "cell_type": "code",
   "execution_count": null,
   "metadata": {},
   "outputs": [],
   "source": [
    "## breaks, need to fix\n",
    "# import random\n",
    "# def plot_output(df1, df2):\n",
    "#   n_charts = len(cf.aNAMES)\n",
    "#   ylabelsize = 16\n",
    "#   mpl.rcParams['lines.linewidth'] = 1.2\n",
    "#   default_colors = plt.rcParams['axes.prop_cycle'].by_key()['color']\n",
    "#   fig, axs = plt.subplots(n_charts, sharex=True)\n",
    "#   fig.set_figwidth(13); fig.set_figheight(9)\n",
    "#   fig.suptitle('Merit Simulation', fontsize=20)\n",
    "\n",
    "#   for i,an in enumerate(cf.aNAMES):\n",
    "#     axs[i].set_title(f'Merits for {an}')\n",
    "#     axs[i].set_ylim(-1, 1); axs[i].spines['top'].set_visible(False); axs[i].spines['right'].set_visible(True); axs[i].spines['bottom'].set_visible(False)\n",
    "#     axs[i].step(df1[f'{an}_merit'], 'r-')\n",
    "#     ## axs[i].axhline(y=dem_sim.muD[e], color='k', linestyle=':')\n",
    "#     axs[i].axhline(y=0, color='k', linestyle=':')\n",
    "#   axs[i].set_xlabel('$t\\ \\mathrm{[hourly\\ windows]}$', rotation=0, ha='center', va='center', fontweight='bold', size=ylabelsize)\n",
    "# plot_output(df, None)"
   ]
  },
  {
   "cell_type": "code",
   "execution_count": null,
   "metadata": {},
   "outputs": [],
   "source": [
    "#| hide\n",
    "import nbdev; nbdev.nbdev_export()"
   ]
  },
  {
   "cell_type": "code",
   "execution_count": null,
   "metadata": {},
   "outputs": [],
   "source": []
  }
 ],
 "metadata": {
  "kernelspec": {
   "display_name": "python3",
   "language": "python",
   "name": "python3"
  }
 },
 "nbformat": 4,
 "nbformat_minor": 4
}
